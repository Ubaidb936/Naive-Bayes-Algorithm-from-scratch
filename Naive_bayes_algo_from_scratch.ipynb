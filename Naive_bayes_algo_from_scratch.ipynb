{
 "cells": [
  {
   "cell_type": "code",
   "execution_count": null,
   "id": "19045a13",
   "metadata": {},
   "outputs": [],
   "source": [
    "## THESE ARE THE ONLY LIBRARIES YOU MAY IMPORT!!\n",
    "import numpy as np\n",
    "import matplotlib.pyplot as plt\n",
    "from collections import defaultdict\n",
    "\n",
    "def learnnb(X,Y):\n",
    "    # X is shape (m,n) (m data points, each with n features).  It has integer values from 0 to maxfeatval (inclusive)\n",
    "    # Y is shape (m,) (m data points).  It has values of either 0 or 1 (class \"0\" or class \"1\")\n",
    "    maxfeatval = int(X.max().max())\n",
    "    \n",
    "    # this function is to return a pair (priorp,condp)\n",
    "    # where priorp is of shape (2,) and has the prior probability of each of the two classes\n",
    "    #  and  condp is of shape (n,maxfeatval+1,2) and has the conditional probabilities for the naive Bayes classifier\n",
    "    \n",
    "    ## YOUR CODE HERE\n",
    "    feature_val_cnt = defaultdict(lambda: defaultdict(lambda: defaultdict(int)))\n",
    "    class_freq = defaultdict(int)\n",
    "    row_cnt = len(X)\n",
    "    classes = np.unique(Y)\n",
    "    num_of_classes = len(classes)\n",
    "    for c in classes:\n",
    "        class_freq[c] = np.count_nonzero(Y == c)\n",
    "    for feature, c in zip(X, Y):\n",
    "        feature_Index = 0;\n",
    "        for feature_val in feature:\n",
    "            feature_val_cnt[c][feature_Index][feature_val] += 1 \n",
    "            feature_Index += 1\n",
    "            \n",
    "    priorp = np.array([class_freq[int(c)]/row_cnt for c in classes]) \n",
    "    number_of_features = len(X[0])\n",
    "    correction = 1\n",
    "    condp = np.zeros((number_of_features, maxfeatval+1, num_of_classes))\n",
    "    for c in classes:\n",
    "        for j in range(number_of_features):\n",
    "            for k in range(maxfeatval+1):\n",
    "                newCnt = feature_val_cnt[int(c)][j][k] + correction;\n",
    "                condp[j, k, int(c)] = (newCnt)/class_freq[int(c)]\n",
    "                \n",
    "    return priorp, condp"
   ]
  },
  {
   "cell_type": "code",
   "execution_count": null,
   "id": "0d182a21",
   "metadata": {},
   "outputs": [],
   "source": [
    "def prednb(X,model):\n",
    "    # X is of shape (m,n) (m data points, each with n features).\n",
    "    # model is the pair (priorp,condp), as returned from learnnb\n",
    "    # should return something of shape (m,) which is an array of 0s and 1s, indicating\n",
    "    # the predicted (most probable under NB) class for each of the examples in X\n",
    "    ## YOUR CODE HERE\n",
    "    (priorp,condp) = model\n",
    "    m, n = X.shape\n",
    "    num_of_data_points, num_of_features = X.shape\n",
    "    result = np.zeros((num_of_data_points,))\n",
    "    number_of_classes = len(priorp)\n",
    "    prob = defaultdict(int)\n",
    "    for i in range(num_of_data_points):\n",
    "        for cls in range(number_of_classes):\n",
    "            prob[cls] = priorp[cls]\n",
    "        for j in range(n):\n",
    "            for c in range(number_of_classes):\n",
    "                feature_val = int(X[i,j])\n",
    "                prob[c] *= condp[j, feature_val, c]\n",
    "        prob_max = -1;\n",
    "        prob_max_class = -1;\n",
    "        for cls, pr in prob.items():\n",
    "            if pr > prob_max:\n",
    "                prob_max = pr\n",
    "                prob_max_class = cls    \n",
    "        result[i] =prob_max_class\n",
    "    return result"
   ]
  },
  {
   "cell_type": "code",
   "execution_count": null,
   "id": "37835df9",
   "metadata": {},
   "outputs": [],
   "source": [
    "def errorrate(predY,trueY):\n",
    "    if len(predY.shape)>1:\n",
    "        predY = predY[:,0]\n",
    "    if len(trueY.shape)>1:\n",
    "        trueY = trueY[:,0]\n",
    "    return (predY!=trueY).mean()\n",
    "\n",
    "model = learnnb(trainX,trainY)\n",
    "predY = prednb(testX,model)\n",
    "print(errorrate(predY,testY))"
   ]
  },
  {
   "cell_type": "code",
   "execution_count": null,
   "id": "de1fbbe1",
   "metadata": {},
   "outputs": [],
   "source": []
  }
 ],
 "metadata": {
  "kernelspec": {
   "display_name": "Python 3 (ipykernel)",
   "language": "python",
   "name": "python3"
  },
  "language_info": {
   "codemirror_mode": {
    "name": "ipython",
    "version": 3
   },
   "file_extension": ".py",
   "mimetype": "text/x-python",
   "name": "python",
   "nbconvert_exporter": "python",
   "pygments_lexer": "ipython3",
   "version": "3.9.13"
  }
 },
 "nbformat": 4,
 "nbformat_minor": 5
}
